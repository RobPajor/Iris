{
 "cells": [
  {
   "cell_type": "markdown",
   "metadata": {},
   "source": [
    "## Playing around with the Iris Dataset"
   ]
  },
  {
   "cell_type": "markdown",
   "metadata": {},
   "source": [
    "For the past few days, I have been messing around with data science and I feel like I have gathered enough theorethical knowledge to be able to start working on a practical project, while also learning more. This project will look more like a child's playground than an organized professionals work, and that is because at this point I am just playing around with different data science methods, trying to figure out connections between flowers.That being said, I will try to keep it as clean as possible and I will try to keep the presentation as neat as I can. Here's a flower to get us strated."
   ]
  },
  {
   "cell_type": "markdown",
   "metadata": {},
   "source": [
    "<img src=\"https://upload.wikimedia.org/wikipedia/commons/f/f8/Iris_virginica_2.jpg\" width=\"300\" height=\"300\" align=\"center\"/>\n",
    "The Iris Virginica, one of the flowers in our dataset"
   ]
  },
  {
   "cell_type": "code",
   "execution_count": 18,
   "metadata": {},
   "outputs": [],
   "source": [
    "# Let's import all the libraries and modules we will be working with\n",
    "\n",
    "import matplotlib.pyplot as plt\n",
    "from mpl_toolkits.mplot3d import Axes3D\n",
    "from sklearn import datasets\n",
    "from sklearn.decomposition import PCA\n",
    "import pandas as pd\n",
    "import numpy as np\n",
    "import seaborn as sns"
   ]
  },
  {
   "cell_type": "code",
   "execution_count": 19,
   "metadata": {},
   "outputs": [
    {
     "data": {
      "text/html": [
       "<div>\n",
       "<style scoped>\n",
       "    .dataframe tbody tr th:only-of-type {\n",
       "        vertical-align: middle;\n",
       "    }\n",
       "\n",
       "    .dataframe tbody tr th {\n",
       "        vertical-align: top;\n",
       "    }\n",
       "\n",
       "    .dataframe thead th {\n",
       "        text-align: right;\n",
       "    }\n",
       "</style>\n",
       "<table border=\"1\" class=\"dataframe\">\n",
       "  <thead>\n",
       "    <tr style=\"text-align: right;\">\n",
       "      <th></th>\n",
       "      <th>sepal length (cm)</th>\n",
       "      <th>sepal width (cm)</th>\n",
       "      <th>petal length (cm)</th>\n",
       "      <th>petal width (cm)</th>\n",
       "      <th>Flower Type</th>\n",
       "    </tr>\n",
       "  </thead>\n",
       "  <tbody>\n",
       "    <tr>\n",
       "      <th>0</th>\n",
       "      <td>5.1</td>\n",
       "      <td>3.5</td>\n",
       "      <td>1.4</td>\n",
       "      <td>0.2</td>\n",
       "      <td>0</td>\n",
       "    </tr>\n",
       "    <tr>\n",
       "      <th>1</th>\n",
       "      <td>4.9</td>\n",
       "      <td>3.0</td>\n",
       "      <td>1.4</td>\n",
       "      <td>0.2</td>\n",
       "      <td>0</td>\n",
       "    </tr>\n",
       "    <tr>\n",
       "      <th>2</th>\n",
       "      <td>4.7</td>\n",
       "      <td>3.2</td>\n",
       "      <td>1.3</td>\n",
       "      <td>0.2</td>\n",
       "      <td>0</td>\n",
       "    </tr>\n",
       "    <tr>\n",
       "      <th>3</th>\n",
       "      <td>4.6</td>\n",
       "      <td>3.1</td>\n",
       "      <td>1.5</td>\n",
       "      <td>0.2</td>\n",
       "      <td>0</td>\n",
       "    </tr>\n",
       "    <tr>\n",
       "      <th>4</th>\n",
       "      <td>5.0</td>\n",
       "      <td>3.6</td>\n",
       "      <td>1.4</td>\n",
       "      <td>0.2</td>\n",
       "      <td>0</td>\n",
       "    </tr>\n",
       "  </tbody>\n",
       "</table>\n",
       "</div>"
      ],
      "text/plain": [
       "   sepal length (cm)  sepal width (cm)  petal length (cm)  petal width (cm)  \\\n",
       "0                5.1               3.5                1.4               0.2   \n",
       "1                4.9               3.0                1.4               0.2   \n",
       "2                4.7               3.2                1.3               0.2   \n",
       "3                4.6               3.1                1.5               0.2   \n",
       "4                5.0               3.6                1.4               0.2   \n",
       "\n",
       "   Flower Type  \n",
       "0            0  \n",
       "1            0  \n",
       "2            0  \n",
       "3            0  \n",
       "4            0  "
      ]
     },
     "execution_count": 19,
     "metadata": {},
     "output_type": "execute_result"
    }
   ],
   "source": [
    "# We can load the data and turn it into a pandas DataFrame so that we can work with it\n",
    "\n",
    "Iris = datasets.load_iris() \n",
    "ir = pd.DataFrame(Iris.data,columns=Iris.feature_names)\n",
    "\n",
    "xi = ir\n",
    "yi = pd.DataFrame(Iris.target,columns=[\"Flower Type\"])\n",
    "fd = pd.concat([xi, yi,], axis=1)\n",
    "\n",
    "fd.head()"
   ]
  },
  {
   "cell_type": "code",
   "execution_count": 20,
   "metadata": {},
   "outputs": [],
   "source": [
    "os = fd[fd[\"Flower Type\"] == 0]         # contains only setosa\n",
    "ove = fd[fd[\"Flower Type\"] == 1]        # contains only versicolor\n",
    "ovr = fd[fd[\"Flower Type\"] == 2]        # containts only virginica"
   ]
  },
  {
   "cell_type": "code",
   "execution_count": 21,
   "metadata": {},
   "outputs": [
    {
     "data": {
      "text/html": [
       "<div>\n",
       "<style scoped>\n",
       "    .dataframe tbody tr th:only-of-type {\n",
       "        vertical-align: middle;\n",
       "    }\n",
       "\n",
       "    .dataframe tbody tr th {\n",
       "        vertical-align: top;\n",
       "    }\n",
       "\n",
       "    .dataframe thead th {\n",
       "        text-align: right;\n",
       "    }\n",
       "</style>\n",
       "<table border=\"1\" class=\"dataframe\">\n",
       "  <thead>\n",
       "    <tr style=\"text-align: right;\">\n",
       "      <th></th>\n",
       "      <th>0</th>\n",
       "      <th>1</th>\n",
       "      <th>2</th>\n",
       "    </tr>\n",
       "  </thead>\n",
       "  <tbody>\n",
       "    <tr>\n",
       "      <th>sepal length (cm)</th>\n",
       "      <td>5.006</td>\n",
       "      <td>5.936</td>\n",
       "      <td>6.588</td>\n",
       "    </tr>\n",
       "    <tr>\n",
       "      <th>sepal width (cm)</th>\n",
       "      <td>3.428</td>\n",
       "      <td>2.770</td>\n",
       "      <td>2.974</td>\n",
       "    </tr>\n",
       "    <tr>\n",
       "      <th>petal length (cm)</th>\n",
       "      <td>1.462</td>\n",
       "      <td>4.260</td>\n",
       "      <td>5.552</td>\n",
       "    </tr>\n",
       "    <tr>\n",
       "      <th>petal width (cm)</th>\n",
       "      <td>0.246</td>\n",
       "      <td>1.326</td>\n",
       "      <td>2.026</td>\n",
       "    </tr>\n",
       "    <tr>\n",
       "      <th>Flower Type</th>\n",
       "      <td>0.000</td>\n",
       "      <td>1.000</td>\n",
       "      <td>2.000</td>\n",
       "    </tr>\n",
       "  </tbody>\n",
       "</table>\n",
       "</div>"
      ],
      "text/plain": [
       "                       0      1      2\n",
       "sepal length (cm)  5.006  5.936  6.588\n",
       "sepal width (cm)   3.428  2.770  2.974\n",
       "petal length (cm)  1.462  4.260  5.552\n",
       "petal width (cm)   0.246  1.326  2.026\n",
       "Flower Type        0.000  1.000  2.000"
      ]
     },
     "execution_count": 21,
     "metadata": {},
     "output_type": "execute_result"
    }
   ],
   "source": [
    "class_feature_means = pd.DataFrame(columns=[0,1,2])\n",
    "\n",
    "for c, rows in fd.groupby('Flower Type'):\n",
    "    class_feature_means[c] = rows.mean()\n",
    "class_feature_means\n"
   ]
  },
  {
   "cell_type": "markdown",
   "metadata": {},
   "source": [
    "<h1 align=left><font size = 5>The Iris Dataset</font></h1>"
   ]
  },
  {
   "cell_type": "markdown",
   "metadata": {},
   "source": [
    "In 1936, Ronald Fisher introduced the Iris Dataset as an example of Linear Discrimant Analysis, which is a method used to characterize or seperate two or more classes of objects. \n",
    "\n",
    "**Question:** Can we do what Ronald Fisher did, and accurately classify the 3 different Iris Flower Types in the data?\n",
    "\n",
    "Before we get into any kind of coding, we should first understand what data we're working with here. Our data has four features Sepal length, sepal width, petal length and petal width. The sepal and the petal of a flower are demonstrated on the picture below."
   ]
  },
  {
   "cell_type": "markdown",
   "metadata": {},
   "source": [
    "<img src=\"https://upload.wikimedia.org/wikipedia/commons/7/78/Petal-sepal.jpg\" width=\"200\" height=\"200\" align=\"center\"/>\n",
    "\n",
    "Below we can see that our dataset has 150 rows and 4 columns. Then we can see the first 5 rows of the dataset"
   ]
  },
  {
   "cell_type": "code",
   "execution_count": 22,
   "metadata": {},
   "outputs": [
    {
     "data": {
      "text/plain": [
       "(150, 4)"
      ]
     },
     "execution_count": 22,
     "metadata": {},
     "output_type": "execute_result"
    }
   ],
   "source": [
    "ir.shape"
   ]
  },
  {
   "cell_type": "code",
   "execution_count": 23,
   "metadata": {},
   "outputs": [
    {
     "data": {
      "text/html": [
       "<div>\n",
       "<style scoped>\n",
       "    .dataframe tbody tr th:only-of-type {\n",
       "        vertical-align: middle;\n",
       "    }\n",
       "\n",
       "    .dataframe tbody tr th {\n",
       "        vertical-align: top;\n",
       "    }\n",
       "\n",
       "    .dataframe thead th {\n",
       "        text-align: right;\n",
       "    }\n",
       "</style>\n",
       "<table border=\"1\" class=\"dataframe\">\n",
       "  <thead>\n",
       "    <tr style=\"text-align: right;\">\n",
       "      <th></th>\n",
       "      <th>sepal length (cm)</th>\n",
       "      <th>sepal width (cm)</th>\n",
       "      <th>petal length (cm)</th>\n",
       "      <th>petal width (cm)</th>\n",
       "    </tr>\n",
       "  </thead>\n",
       "  <tbody>\n",
       "    <tr>\n",
       "      <th>0</th>\n",
       "      <td>5.1</td>\n",
       "      <td>3.5</td>\n",
       "      <td>1.4</td>\n",
       "      <td>0.2</td>\n",
       "    </tr>\n",
       "    <tr>\n",
       "      <th>1</th>\n",
       "      <td>4.9</td>\n",
       "      <td>3.0</td>\n",
       "      <td>1.4</td>\n",
       "      <td>0.2</td>\n",
       "    </tr>\n",
       "    <tr>\n",
       "      <th>2</th>\n",
       "      <td>4.7</td>\n",
       "      <td>3.2</td>\n",
       "      <td>1.3</td>\n",
       "      <td>0.2</td>\n",
       "    </tr>\n",
       "    <tr>\n",
       "      <th>3</th>\n",
       "      <td>4.6</td>\n",
       "      <td>3.1</td>\n",
       "      <td>1.5</td>\n",
       "      <td>0.2</td>\n",
       "    </tr>\n",
       "    <tr>\n",
       "      <th>4</th>\n",
       "      <td>5.0</td>\n",
       "      <td>3.6</td>\n",
       "      <td>1.4</td>\n",
       "      <td>0.2</td>\n",
       "    </tr>\n",
       "  </tbody>\n",
       "</table>\n",
       "</div>"
      ],
      "text/plain": [
       "   sepal length (cm)  sepal width (cm)  petal length (cm)  petal width (cm)\n",
       "0                5.1               3.5                1.4               0.2\n",
       "1                4.9               3.0                1.4               0.2\n",
       "2                4.7               3.2                1.3               0.2\n",
       "3                4.6               3.1                1.5               0.2\n",
       "4                5.0               3.6                1.4               0.2"
      ]
     },
     "execution_count": 23,
     "metadata": {},
     "output_type": "execute_result"
    }
   ],
   "source": [
    "ir.head()"
   ]
  },
  {
   "cell_type": "markdown",
   "metadata": {},
   "source": [
    "Let's explore the different characteristics of our data."
   ]
  },
  {
   "cell_type": "code",
   "execution_count": 24,
   "metadata": {},
   "outputs": [
    {
     "data": {
      "text/html": [
       "<div>\n",
       "<style scoped>\n",
       "    .dataframe tbody tr th:only-of-type {\n",
       "        vertical-align: middle;\n",
       "    }\n",
       "\n",
       "    .dataframe tbody tr th {\n",
       "        vertical-align: top;\n",
       "    }\n",
       "\n",
       "    .dataframe thead th {\n",
       "        text-align: right;\n",
       "    }\n",
       "</style>\n",
       "<table border=\"1\" class=\"dataframe\">\n",
       "  <thead>\n",
       "    <tr style=\"text-align: right;\">\n",
       "      <th></th>\n",
       "      <th>sepal length (cm)</th>\n",
       "      <th>sepal width (cm)</th>\n",
       "      <th>petal length (cm)</th>\n",
       "      <th>petal width (cm)</th>\n",
       "    </tr>\n",
       "  </thead>\n",
       "  <tbody>\n",
       "    <tr>\n",
       "      <th>count</th>\n",
       "      <td>150.000000</td>\n",
       "      <td>150.000000</td>\n",
       "      <td>150.000000</td>\n",
       "      <td>150.000000</td>\n",
       "    </tr>\n",
       "    <tr>\n",
       "      <th>mean</th>\n",
       "      <td>5.843333</td>\n",
       "      <td>3.057333</td>\n",
       "      <td>3.758000</td>\n",
       "      <td>1.199333</td>\n",
       "    </tr>\n",
       "    <tr>\n",
       "      <th>std</th>\n",
       "      <td>0.828066</td>\n",
       "      <td>0.435866</td>\n",
       "      <td>1.765298</td>\n",
       "      <td>0.762238</td>\n",
       "    </tr>\n",
       "    <tr>\n",
       "      <th>min</th>\n",
       "      <td>4.300000</td>\n",
       "      <td>2.000000</td>\n",
       "      <td>1.000000</td>\n",
       "      <td>0.100000</td>\n",
       "    </tr>\n",
       "    <tr>\n",
       "      <th>25%</th>\n",
       "      <td>5.100000</td>\n",
       "      <td>2.800000</td>\n",
       "      <td>1.600000</td>\n",
       "      <td>0.300000</td>\n",
       "    </tr>\n",
       "    <tr>\n",
       "      <th>50%</th>\n",
       "      <td>5.800000</td>\n",
       "      <td>3.000000</td>\n",
       "      <td>4.350000</td>\n",
       "      <td>1.300000</td>\n",
       "    </tr>\n",
       "    <tr>\n",
       "      <th>75%</th>\n",
       "      <td>6.400000</td>\n",
       "      <td>3.300000</td>\n",
       "      <td>5.100000</td>\n",
       "      <td>1.800000</td>\n",
       "    </tr>\n",
       "    <tr>\n",
       "      <th>max</th>\n",
       "      <td>7.900000</td>\n",
       "      <td>4.400000</td>\n",
       "      <td>6.900000</td>\n",
       "      <td>2.500000</td>\n",
       "    </tr>\n",
       "  </tbody>\n",
       "</table>\n",
       "</div>"
      ],
      "text/plain": [
       "       sepal length (cm)  sepal width (cm)  petal length (cm)  \\\n",
       "count         150.000000        150.000000         150.000000   \n",
       "mean            5.843333          3.057333           3.758000   \n",
       "std             0.828066          0.435866           1.765298   \n",
       "min             4.300000          2.000000           1.000000   \n",
       "25%             5.100000          2.800000           1.600000   \n",
       "50%             5.800000          3.000000           4.350000   \n",
       "75%             6.400000          3.300000           5.100000   \n",
       "max             7.900000          4.400000           6.900000   \n",
       "\n",
       "       petal width (cm)  \n",
       "count        150.000000  \n",
       "mean           1.199333  \n",
       "std            0.762238  \n",
       "min            0.100000  \n",
       "25%            0.300000  \n",
       "50%            1.300000  \n",
       "75%            1.800000  \n",
       "max            2.500000  "
      ]
     },
     "execution_count": 24,
     "metadata": {},
     "output_type": "execute_result"
    }
   ],
   "source": [
    "ir.describe()"
   ]
  },
  {
   "cell_type": "markdown",
   "metadata": {},
   "source": [
    "We use a scatter plot to determine if there is a linear correlation between sepal length and sepal width. The points seem to be distributed randomly, so there is no linear relationship between sepal length and sepal width."
   ]
  },
  {
   "cell_type": "code",
   "execution_count": 272,
   "metadata": {},
   "outputs": [
    {
     "data": {
      "text/plain": [
       "Text(0, 0.5, 'Sepal length')"
      ]
     },
     "execution_count": 272,
     "metadata": {},
     "output_type": "execute_result"
    },
    {
     "data": {
      "image/png": "[encoded data removed]",
      "text/plain": [
       "<Figure size 432x288 with 1 Axes>"
      ]
     },
     "metadata": {},
     "output_type": "display_data"
    }
   ],
   "source": [
    "y = ir[\"sepal length (cm)\"]\n",
    "x = ir[\"sepal width (cm)\"]\n",
    "\n",
    "plt.style.use(\"cyberpunk\")\n",
    "plt.scatter(x,y, color=\"cyan\")\n",
    "\n",
    "plt.title(\"Sepal Length vs Sepal Width\")\n",
    "plt.xlabel(\"Sepal Width\")\n",
    "plt.ylabel(\"Sepal length\")"
   ]
  },
  {
   "cell_type": "markdown",
   "metadata": {},
   "source": [
    "We plot the relationship between petal width and petal length. We can see that the wider the petals get, the longer they get. This indicates a positive linear relationship between the two variables"
   ]
  },
  {
   "cell_type": "code",
   "execution_count": 26,
   "metadata": {},
   "outputs": [
    {
     "data": {
      "text/plain": [
       "(0.0, 7.195)"
      ]
     },
     "execution_count": 26,
     "metadata": {},
     "output_type": "execute_result"
    },
    {
     "data": {
      "image/png": "[encoded data removed]",
      "text/plain": [
       "<Figure size 432x288 with 1 Axes>"
      ]
     },
     "metadata": {},
     "output_type": "display_data"
    }
   ],
   "source": [
    "sns.regplot(x=\"petal width (cm)\", y=\"petal length (cm)\", data=ir)\n",
    "plt.ylim(0,)"
   ]
  },
  {
   "cell_type": "markdown",
   "metadata": {},
   "source": [
    "Instead of creating a plot for each combination of the features, we simply just check the correlation between the different variables. We can see that:\n",
    "- sepal length and petal length are moderately correlated with a positive linear relationship (0.87) \n",
    "- sepal length and petal width are moderately correlated with a positive linear relationship  (0.81)\n",
    "- petal width and petal length are higly correlated with a positive linear relationship  (0.96)"
   ]
  },
  {
   "cell_type": "code",
   "execution_count": 27,
   "metadata": {},
   "outputs": [
    {
     "data": {
      "text/html": [
       "<div>\n",
       "<style scoped>\n",
       "    .dataframe tbody tr th:only-of-type {\n",
       "        vertical-align: middle;\n",
       "    }\n",
       "\n",
       "    .dataframe tbody tr th {\n",
       "        vertical-align: top;\n",
       "    }\n",
       "\n",
       "    .dataframe thead th {\n",
       "        text-align: right;\n",
       "    }\n",
       "</style>\n",
       "<table border=\"1\" class=\"dataframe\">\n",
       "  <thead>\n",
       "    <tr style=\"text-align: right;\">\n",
       "      <th></th>\n",
       "      <th>sepal length (cm)</th>\n",
       "      <th>sepal width (cm)</th>\n",
       "      <th>petal length (cm)</th>\n",
       "      <th>petal width (cm)</th>\n",
       "    </tr>\n",
       "  </thead>\n",
       "  <tbody>\n",
       "    <tr>\n",
       "      <th>sepal length (cm)</th>\n",
       "      <td>1.000000</td>\n",
       "      <td>-0.117570</td>\n",
       "      <td>0.871754</td>\n",
       "      <td>0.817941</td>\n",
       "    </tr>\n",
       "    <tr>\n",
       "      <th>sepal width (cm)</th>\n",
       "      <td>-0.117570</td>\n",
       "      <td>1.000000</td>\n",
       "      <td>-0.428440</td>\n",
       "      <td>-0.366126</td>\n",
       "    </tr>\n",
       "    <tr>\n",
       "      <th>petal length (cm)</th>\n",
       "      <td>0.871754</td>\n",
       "      <td>-0.428440</td>\n",
       "      <td>1.000000</td>\n",
       "      <td>0.962865</td>\n",
       "    </tr>\n",
       "    <tr>\n",
       "      <th>petal width (cm)</th>\n",
       "      <td>0.817941</td>\n",
       "      <td>-0.366126</td>\n",
       "      <td>0.962865</td>\n",
       "      <td>1.000000</td>\n",
       "    </tr>\n",
       "  </tbody>\n",
       "</table>\n",
       "</div>"
      ],
      "text/plain": [
       "                   sepal length (cm)  sepal width (cm)  petal length (cm)  \\\n",
       "sepal length (cm)           1.000000         -0.117570           0.871754   \n",
       "sepal width (cm)           -0.117570          1.000000          -0.428440   \n",
       "petal length (cm)           0.871754         -0.428440           1.000000   \n",
       "petal width (cm)            0.817941         -0.366126           0.962865   \n",
       "\n",
       "                   petal width (cm)  \n",
       "sepal length (cm)          0.817941  \n",
       "sepal width (cm)          -0.366126  \n",
       "petal length (cm)          0.962865  \n",
       "petal width (cm)           1.000000  "
      ]
     },
     "execution_count": 27,
     "metadata": {},
     "output_type": "execute_result"
    }
   ],
   "source": [
    "ir.corr()"
   ]
  },
  {
   "cell_type": "markdown",
   "metadata": {},
   "source": [
    "Next, we want to measure the correlation between our features. We can do this by calculating the Pearson Correlation Coefficient and the P-Value. The correlation coefficient is the same as the correlation shown above. The smaller the P-Value, the higher the significance. We can see that our 3 chosen combinations are all correlated with a very small P-Value, meaning that they are all significant."
   ]
  },
  {
   "cell_type": "code",
   "execution_count": 28,
   "metadata": {},
   "outputs": [
    {
     "name": "stdout",
     "output_type": "stream",
     "text": [
      "Sepal Length vs Petal Length\n",
      "The Correlation Coefficient is:  0.8717537758865833 \n",
      "The P-Value is:  1.0386674194496954e-47\n",
      "\n",
      "Sepal Length vs Petal Width\n",
      "The Correlation Coefficient is:  0.8179411262715756 \n",
      "The P-Value is:  2.325498079793272e-37\n",
      "\n",
      "Petal Width vs Petal Length\n",
      "The Correlation Coefficient is:  0.9628654314027963 \n",
      "The P-Value is:  4.6750039073255585e-86\n"
     ]
    }
   ],
   "source": [
    "from scipy import stats\n",
    "\n",
    "print(\"Sepal Length vs Petal Length\")\n",
    "pc, pv = stats.pearsonr(ir[\"sepal length (cm)\"], ir[\"petal length (cm)\"])\n",
    "print(\"The Correlation Coefficient is: \", pc, \"\\nThe P-Value is: \", pv)\n",
    "\n",
    "print(\"\\nSepal Length vs Petal Width\")\n",
    "pc, pv = stats.pearsonr(ir[\"sepal length (cm)\"], ir[\"petal width (cm)\"])\n",
    "print(\"The Correlation Coefficient is: \", pc, \"\\nThe P-Value is: \", pv)\n",
    "\n",
    "print(\"\\nPetal Width vs Petal Length\")\n",
    "pc, pv = stats.pearsonr(ir[\"petal width (cm)\"], ir[\"petal length (cm)\"])\n",
    "print(\"The Correlation Coefficient is: \", pc, \"\\nThe P-Value is: \", pv)"
   ]
  },
  {
   "cell_type": "markdown",
   "metadata": {},
   "source": [
    "If we compare Sepal Width and Sepal Length, we can see that the correlation is low, and that the P-Value is high, meaning that these values are not significant."
   ]
  },
  {
   "cell_type": "code",
   "execution_count": 29,
   "metadata": {},
   "outputs": [
    {
     "name": "stdout",
     "output_type": "stream",
     "text": [
      "\n",
      "Sepal Width vs Sepal Length\n",
      "The Correlation Coefficient is:  -0.11756978413300208 \n",
      "The P-Value is:  0.15189826071144766\n"
     ]
    }
   ],
   "source": [
    "print(\"\\nSepal Width vs Sepal Length\")\n",
    "pc, pv = stats.pearsonr(ir[\"sepal width (cm)\"], ir[\"sepal length (cm)\"])\n",
    "print(\"The Correlation Coefficient is: \", pc, \"\\nThe P-Value is: \", pv)"
   ]
  },
  {
   "cell_type": "markdown",
   "metadata": {},
   "source": [
    "# Can we predict petal width, based on known other features?\n",
    "\n",
    "This is a very good and very important question in Data Science. It is also relatively simple to answer. From our above values, we know that petal width is correlated with petal length and sepal length. We can use multiple linear regression to predict the petal width of an iris flower, based on petal length and sepal length."
   ]
  },
  {
   "cell_type": "code",
   "execution_count": 30,
   "metadata": {},
   "outputs": [
    {
     "name": "stdout",
     "output_type": "stream",
     "text": [
      "The intercept is:  [-0.00899597] \n",
      "The coefficients are:  [[-0.08221782  0.44937611]]\n",
      " sepal length (cm)  petal length (cm)\n",
      "               5.1                1.4\n",
      "               4.9                1.4\n",
      "[[0.2008197 ]\n",
      " [0.21726327]]\n",
      "\n",
      "R Squared:  0.9290248640257686\n",
      "\n",
      "MSE:  0.040962085264089815\n"
     ]
    }
   ],
   "source": [
    "from sklearn.linear_model import LinearRegression\n",
    "from sklearn.metrics import mean_squared_error\n",
    "\n",
    "lm = LinearRegression()\n",
    "X = ir[[\"sepal length (cm)\", \"petal length (cm)\", ]]\n",
    "Y = ir[[\"petal width (cm)\"]]\n",
    "lm.fit(X,Y)\n",
    "Yhat = lm.predict(X)\n",
    "print(\"The intercept is: \", lm.intercept_, \"\\nThe coefficients are: \", lm.coef_)\n",
    "\n",
    "print(X[0:2].to_string(index=False))\n",
    "print(Yhat[0:2])\n",
    "\n",
    "mse = mean_squared_error(Y['petal width (cm)'], Yhat)\n",
    "\n",
    "print(\"\\nR Squared: \", lm.score(X,Y))\n",
    "print(\"\\nMSE: \", mse)\n",
    "# We can say that 0.93% of the variaton of the petal width is explained by our Linear Model"
   ]
  },
  {
   "cell_type": "code",
   "execution_count": 31,
   "metadata": {},
   "outputs": [
    {
     "name": "stdout",
     "output_type": "stream",
     "text": [
      "Mean of the folds:  0.9217123919650492\n",
      "Standard deviation:  0.03507468815311565\n"
     ]
    }
   ],
   "source": [
    "from sklearn.model_selection import train_test_split\n",
    "from sklearn.model_selection import cross_val_score\n",
    "\n",
    "x_train, x_test, y_train, y_test = train_test_split(X, Y, test_size=0.3, random_state=1)\n",
    "lre=LinearRegression()\n",
    "lre.fit(x_train, y_train)\n",
    "\n",
    "Rcross = cross_val_score(lre, x_test, y_test, cv=4)\n",
    "print(\"Mean of the folds: \", Rcross.mean())\n",
    "print(\"Standard deviation: \", Rcross.std())\n"
   ]
  },
  {
   "cell_type": "markdown",
   "metadata": {},
   "source": [
    "### The resulting function is:\n",
    "\n",
    "Petal Width = -0.8221782 - (0.08221782) * sepal length + 0.44937611 * petal length\n",
    "\n",
    "\n",
    "If we take the mean values from our table above, 5.84 for sepal length and 3.76 for petal length, we can just drop them into our function and get the predicted Petal width:\n",
    "\n",
    "Petal Width = -0.8221782 - (0.08221782 * 5.84) + (0.44937611 * 3.76)\n",
    "\n",
    "We get 0.3873239048"
   ]
  },
  {
   "cell_type": "markdown",
   "metadata": {},
   "source": [
    "## Distribution Plot\n",
    "\n",
    "We use a distribution plot to compare the results of our model with actual values. We can see that our model has inconsistencies in the range from petal width 0.5 to petal width 2.0. \n",
    "\n",
    "Note that the y axis represents the density of probability, which is the chance of obtaining values near corresponding points on the X axis. From 0.5 to 1.25 the probablity of obtaining a corresponding value is lower than that of the actual values, and after 1.25 to 2.25 the probability is much higher."
   ]
  },
  {
   "cell_type": "code",
   "execution_count": 48,
   "metadata": {},
   "outputs": [
    {
     "data": {
      "image/png": "[encoded data removed]",
      "text/plain": [
       "<Figure size 432x288 with 1 Axes>"
      ]
     },
     "metadata": {},
     "output_type": "display_data"
    }
   ],
   "source": [
    "ax1 = sns.distplot(Y[\"petal width (cm)\"], hist = False, color = \"pink\", label = \"Actual Value\") \n",
    "sns.distplot(Yhat, hist = False, color = \"cyan\", label = \"Predicted Value\")\n",
    "\n",
    "mplcyberpunk.make_lines_glow()"
   ]
  },
  {
   "cell_type": "markdown",
   "metadata": {},
   "source": [
    "### Back to the original Question\n",
    "\n",
    "We make to dataframes. xi contains the different Features and yi contains the Flower Type. The three flower types are \"setosa\", \"versicolor\" and \"virginica\". For statistical ease these values are encoded as 0,1,2\n",
    "\n",
    "**Classification:**\n",
    "- \"0\" : setosa\n",
    "- \"1\" : versicolor\n",
    "- \"2\" : virginica\n",
    "\n",
    "LDA or Linear Discriminant Analysis is used because we originally have four dimensions to seperate our data. We want to reduce those four dimensions as much as we can, while retaining as much data as possible. At the same time, LDA is seperating the data as much as it can, while keeping the variance of the data as low as possible.\n",
    "\n",
    "First we will split the Data into testing and training data. We will use the training data to train our model, and we will use the test data to get a valuation on how well our data works."
   ]
  },
  {
   "cell_type": "code",
   "execution_count": 270,
   "metadata": {},
   "outputs": [
    {
     "data": {
      "image/png": "[encoded data removed]",
      "text/plain": [
       "<Figure size 432x288 with 1 Axes>"
      ]
     },
     "metadata": {},
     "output_type": "display_data"
    }
   ],
   "source": [
    "from sklearn.discriminant_analysis import LinearDiscriminantAnalysis\n",
    "\n",
    "\n",
    "xi = ir\n",
    "yi = pd.DataFrame(Iris.target,columns=[\"Flower Type\"])\n",
    "\n",
    "xi_train, xi_test, yi_train, yi_test = train_test_split(xi, yi, test_size=0.2, random_state=1)  # Separating the data into training and test data\n",
    "\n",
    "yi_train = yi_train.values[:,0]\n",
    "xi_train = xi_train.values\n",
    "xi_test = xi_test.values\n",
    "yi_test = yi_test.values[:,0]\n",
    "\n",
    "\n",
    "lda = LinearDiscriminantAnalysis(n_components=2)\n",
    "X_r2 = lda.fit(xi_train, yi_train).transform(xi_train)\n",
    "\n",
    "colors = ['darkorange', 'cyan', 'gold']\n",
    "\n",
    "for color, i, target_name in zip(colors, [0,1,2], Iris.target_names):\n",
    "    plt.scatter(X_r2[yi_train == i, 0], X_r2[yi_train == i, 1], alpha = 0.8, label = target_name, color = color)\n",
    "    plt.legend(loc='best', shadow=False, scatterpoints=1)\n",
    "    plt.title('LDA of IRIS (train values)')"
   ]
  },
  {
   "cell_type": "code",
   "execution_count": 278,
   "metadata": {},
   "outputs": [
    {
     "name": "stdout",
     "output_type": "stream",
     "text": [
      "The accuracy score based on test data:  1.0\n"
     ]
    }
   ],
   "source": [
    "from sklearn.metrics import accuracy_score\n",
    "from sklearn.metrics import _classification as classif\n",
    "\n",
    "ldascore = lda.score(xi_test,yi_test)\n",
    "print(\"The accuracy score based on test data: \", ldascore)"
   ]
  },
  {
   "cell_type": "markdown",
   "metadata": {},
   "source": [
    "# Conclusion and Final Thoughts"
   ]
  },
  {
   "cell_type": "markdown",
   "metadata": {},
   "source": [
    "When I started doing this project, I knew nothing about LDA and didn't understand much about machine learning concepts. As time slowly went by while I was reading about eigenvectors, eigenvalues and staring at complex looking mathematical formulas (that really aren't that complex), things started to slowly make sense. I realized that LDA is really useful for simplifying the dimensions of objects that we already know the categories of in order to split them up well.\n",
    "\n",
    "As a result, we have a nice looking graph, but we also have a model that has an accuracy score of 1.0 on the test data. In other words, it accurately classified all of the test data. I am surprised and impressed, that this model has such a high accuracy rate. I was expecting something around 90% maybe 95% accuracy, but this is feasible since this is a practice dataset, which has been created by one of the most renown statisticians of the 20th century. \n",
    "\n",
    "Instead of thinking about classifying flowers, I'd like to take this last portion of my project, to document my thoughts on how I think an LDA Model could be used in some practical cases. As I understand, LDA has 2 purposes: Classification and Dimensionality Reduction. \n",
    "\n",
    "During my reaserach, I read that LDA is used in facial recognition. This makes sense, because our faces are made up of so many different features. In order to be able to recognize a face, one would need to first reduce the features that a face can have, to only two and then classify them. This could be used to predict things like: ethnicity, aesthetic attractiveness, weight and gender. If you think further, and want to use facial recognition to recognize a particular person, it could be done with an LDA Model, but I think there's porbably a better model for that, since if we have 7 Billion people on the planet, we would need 7 Billion different classes, and our LDA model would be overcrowded."
   ]
  }
 ],
 "metadata": {
  "kernelspec": {
   "display_name": "Python 3",
   "language": "python",
   "name": "python3"
  },
  "language_info": {
   "codemirror_mode": {
    "name": "ipython",
    "version": 3
   },
   "file_extension": ".py",
   "mimetype": "text/x-python",
   "name": "python",
   "nbconvert_exporter": "python",
   "pygments_lexer": "ipython3",
   "version": "3.8.1"
  }
 },
 "nbformat": 4,
 "nbformat_minor": 4
}
